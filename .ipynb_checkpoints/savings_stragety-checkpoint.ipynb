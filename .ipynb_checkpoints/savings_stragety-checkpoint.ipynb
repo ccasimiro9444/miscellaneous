{
 "cells": [
  {
   "cell_type": "markdown",
   "metadata": {},
   "source": [
    "# Distribute savings over the year on a monthly basis"
   ]
  },
  {
   "cell_type": "code",
   "execution_count": 1,
   "metadata": {},
   "outputs": [],
   "source": [
    "# Creating a list of the payments per day\n",
    "money_list = []\n",
    "for day in range(365):\n",
    "    money_list.append(day + 1)"
   ]
  },
  {
   "cell_type": "code",
   "execution_count": 2,
   "metadata": {},
   "outputs": [
    {
     "data": {
      "image/png": "[encoded data removed]",
      "text/plain": [
       "<matplotlib.figure.Figure at 0x10a97d320>"
      ]
     },
     "metadata": {},
     "output_type": "display_data"
    }
   ],
   "source": [
    "import matplotlib.pyplot as plt\n",
    "%matplotlib inline\n",
    "plt.plot(money_list)\n",
    "plt.xlabel('day of year')\n",
    "plt.ylabel('money')\n",
    "plt.title('distribution of payment')\n",
    "plt.show()"
   ]
  },
  {
   "cell_type": "code",
   "execution_count": 3,
   "metadata": {},
   "outputs": [],
   "source": [
    "# Total\n",
    "total_money = sum(money_list)\n",
    "# Mean\n",
    "import math\n",
    "mean_money = sum(money_list) / 365\n",
    "# Deviation\n",
    "x = []\n",
    "for item in money_list:\n",
    "    x.append((item - (sum(money_list) / 365)) ** 2)\n",
    "dev_money = math.sqrt(sum(x) / 365)"
   ]
  },
  {
   "cell_type": "code",
   "execution_count": 4,
   "metadata": {},
   "outputs": [
    {
     "name": "stdout",
     "output_type": "stream",
     "text": [
      "Total money to be saved next year: 66,795.00\n",
      "Average payments per day: 183.00\n",
      "Average payments per month: 5,566.25\n",
      "Standard deviation: 105.37\n"
     ]
    },
    {
     "data": {
      "image/png": "[encoded data removed]",
      "text/plain": [
       "<matplotlib.figure.Figure at 0x10bc74fd0>"
      ]
     },
     "metadata": {},
     "output_type": "display_data"
    }
   ],
   "source": [
    "# Total and average monthly payments\n",
    "print('Total money to be saved next year: {:,.2f}'.format(total_money))\n",
    "print('Average payments per day: {:,.2f}'.format(mean_money))\n",
    "print('Average payments per month: {:,.2f}'.format(sum(money_list) / 12))\n",
    "print('Standard deviation: {:,.2f}'.format(dev_money))\n",
    "plt.plot([sum(money_list) / 12 for i in range(1, 13, 1)])\n",
    "plt.xlabel('month of year')\n",
    "plt.ylabel('money')\n",
    "plt.title('distribution of payment')\n",
    "plt.show()"
   ]
  },
  {
   "cell_type": "code",
   "execution_count": 5,
   "metadata": {},
   "outputs": [
    {
     "name": "stdout",
     "output_type": "stream",
     "text": [
      "Mean: 5.0, Variance: 8.0, Skewness: 0.35, Kurtosis: 0.12\n"
     ]
    }
   ],
   "source": [
    "# Check Binomial distribution\n",
    "from scipy.stats import binom\n",
    "n, p = 10000000, 0.0000008\n",
    "mean, var, skew, kurt = binom.stats(n, p, loc = -3, moments = 'mvsk')\n",
    "print('Mean: {}, Variance: {}, Skewness: {}, Kurtosis: {}'.format(\n",
    "    mean, \n",
    "    round(var.item(), 2), \n",
    "    round(skew.item(), 2), \n",
    "    round(kurt.item(), 2)\n",
    "    ))"
   ]
  },
  {
   "cell_type": "code",
   "execution_count": 6,
   "metadata": {},
   "outputs": [
    {
     "data": {
      "image/png": "[encoded data removed]",
      "text/plain": [
       "<matplotlib.figure.Figure at 0x10de54748>"
      ]
     },
     "metadata": {},
     "output_type": "display_data"
    },
    {
     "name": "stdout",
     "output_type": "stream",
     "text": [
      "[ -1.   0.   1.   2.   3.   4.   5.   6.   7.   8.   9.  10.  11.]\n"
     ]
    }
   ],
   "source": [
    "# Plot binomial distribution in money terms\n",
    "import numpy as np\n",
    "x = list(range(0, 12, 1))\n",
    "plt.plot(x, binom.pmf(x, n, p, -3) * total_money, 'bo')\n",
    "plt.vlines(x, 0, binom.pmf(x, n, p, -3) * total_money, colors='b', lw=3, alpha=0.5)\n",
    "plt.show()\n",
    "print(np.arange(binom.ppf(0.01, n, p, -3), binom.ppf(0.99, n, p, -3)))"
   ]
  },
  {
   "cell_type": "code",
   "execution_count": 7,
   "metadata": {},
   "outputs": [
    {
     "name": "stdout",
     "output_type": "stream",
     "text": [
      "Percentage of total money distributed in 12 months: 0.97\n",
      "Money included 64,723.63, of 66,795.00\n"
     ]
    }
   ],
   "source": [
    "# Check what percentage is fitted in the 12 months\n",
    "print('Percentage of total money distributed in 12 months: {:,.2f}'.format(sum(binom.pmf(x, n, p, -3))))\n",
    "print('Money included {:,.2f}, of {:,.2f}'.format(sum(binom.pmf(x, n, p, -3) * total_money), total_money))"
   ]
  },
  {
   "cell_type": "code",
   "execution_count": 8,
   "metadata": {},
   "outputs": [],
   "source": [
    "# Current monthly distribution\n",
    "import pandas as pd\n",
    "import calendar\n",
    "monthly_payments_binom = [binom.pmf(i, n, p, -3) * total_money for i in x]\n",
    "payments_df = pd.DataFrame(\n",
    "    monthly_payments_binom, \n",
    "    columns = ['payments'], \n",
    "    index = [calendar.month_name[i] for i in range(1, 13, 1)]\n",
    "    ).round(0)"
   ]
  },
  {
   "cell_type": "code",
   "execution_count": 9,
   "metadata": {},
   "outputs": [
    {
     "data": {
      "text/html": [
       "<div>\n",
       "<style scoped>\n",
       "    .dataframe tbody tr th:only-of-type {\n",
       "        vertical-align: middle;\n",
       "    }\n",
       "\n",
       "    .dataframe tbody tr th {\n",
       "        vertical-align: top;\n",
       "    }\n",
       "\n",
       "    .dataframe thead th {\n",
       "        text-align: right;\n",
       "    }\n",
       "</style>\n",
       "<table border=\"1\" class=\"dataframe\">\n",
       "  <thead>\n",
       "    <tr style=\"text-align: right;\">\n",
       "      <th></th>\n",
       "      <th>payments</th>\n",
       "    </tr>\n",
       "  </thead>\n",
       "  <tbody>\n",
       "    <tr>\n",
       "      <th>January</th>\n",
       "      <td>1912.0</td>\n",
       "    </tr>\n",
       "    <tr>\n",
       "      <th>February</th>\n",
       "      <td>3824.0</td>\n",
       "    </tr>\n",
       "    <tr>\n",
       "      <th>March</th>\n",
       "      <td>6119.0</td>\n",
       "    </tr>\n",
       "    <tr>\n",
       "      <th>April</th>\n",
       "      <td>8158.0</td>\n",
       "    </tr>\n",
       "    <tr>\n",
       "      <th>May</th>\n",
       "      <td>9324.0</td>\n",
       "    </tr>\n",
       "    <tr>\n",
       "      <th>June</th>\n",
       "      <td>9324.0</td>\n",
       "    </tr>\n",
       "    <tr>\n",
       "      <th>July</th>\n",
       "      <td>8288.0</td>\n",
       "    </tr>\n",
       "    <tr>\n",
       "      <th>August</th>\n",
       "      <td>6630.0</td>\n",
       "    </tr>\n",
       "    <tr>\n",
       "      <th>September</th>\n",
       "      <td>4822.0</td>\n",
       "    </tr>\n",
       "    <tr>\n",
       "      <th>October</th>\n",
       "      <td>3215.0</td>\n",
       "    </tr>\n",
       "    <tr>\n",
       "      <th>November</th>\n",
       "      <td>1978.0</td>\n",
       "    </tr>\n",
       "    <tr>\n",
       "      <th>December</th>\n",
       "      <td>1130.0</td>\n",
       "    </tr>\n",
       "  </tbody>\n",
       "</table>\n",
       "</div>"
      ],
      "text/plain": [
       "           payments\n",
       "January      1912.0\n",
       "February     3824.0\n",
       "March        6119.0\n",
       "April        8158.0\n",
       "May          9324.0\n",
       "June         9324.0\n",
       "July         8288.0\n",
       "August       6630.0\n",
       "September    4822.0\n",
       "October      3215.0\n",
       "November     1978.0\n",
       "December     1130.0"
      ]
     },
     "execution_count": 9,
     "metadata": {},
     "output_type": "execute_result"
    }
   ],
   "source": [
    "payments_df"
   ]
  },
  {
   "cell_type": "code",
   "execution_count": 10,
   "metadata": {},
   "outputs": [
    {
     "name": "stdout",
     "output_type": "stream",
     "text": [
      "Need to add to Jan: 918.69\n"
     ]
    }
   ],
   "source": [
    "# Calculate all the money that was cut before January\n",
    "pre_jan = sum(binom.pmf(list(range(-3, 0, 1)), n, p, -3) * total_money)\n",
    "print('Need to add to Jan: {:,.2f}'.format(pre_jan))"
   ]
  },
  {
   "cell_type": "code",
   "execution_count": 11,
   "metadata": {},
   "outputs": [
    {
     "name": "stdout",
     "output_type": "stream",
     "text": [
      "Need to add to Dec: 1,152.68\n"
     ]
    }
   ],
   "source": [
    "# Calculate all the money that was cut after December\n",
    "post_dec = sum(binom.pmf(list(range(12, 60, 1)), n, p, -3) * total_money)\n",
    "print('Need to add to Dec: {:,.2f}'.format(post_dec))"
   ]
  },
  {
   "cell_type": "code",
   "execution_count": 12,
   "metadata": {},
   "outputs": [
    {
     "data": {
      "text/html": [
       "<div>\n",
       "<style scoped>\n",
       "    .dataframe tbody tr th:only-of-type {\n",
       "        vertical-align: middle;\n",
       "    }\n",
       "\n",
       "    .dataframe tbody tr th {\n",
       "        vertical-align: top;\n",
       "    }\n",
       "\n",
       "    .dataframe thead th {\n",
       "        text-align: right;\n",
       "    }\n",
       "</style>\n",
       "<table border=\"1\" class=\"dataframe\">\n",
       "  <thead>\n",
       "    <tr style=\"text-align: right;\">\n",
       "      <th></th>\n",
       "      <th>payments</th>\n",
       "    </tr>\n",
       "  </thead>\n",
       "  <tbody>\n",
       "    <tr>\n",
       "      <th>January</th>\n",
       "      <td>2831</td>\n",
       "    </tr>\n",
       "    <tr>\n",
       "      <th>February</th>\n",
       "      <td>3824</td>\n",
       "    </tr>\n",
       "    <tr>\n",
       "      <th>March</th>\n",
       "      <td>6119</td>\n",
       "    </tr>\n",
       "    <tr>\n",
       "      <th>April</th>\n",
       "      <td>8158</td>\n",
       "    </tr>\n",
       "    <tr>\n",
       "      <th>May</th>\n",
       "      <td>9324</td>\n",
       "    </tr>\n",
       "    <tr>\n",
       "      <th>June</th>\n",
       "      <td>9324</td>\n",
       "    </tr>\n",
       "    <tr>\n",
       "      <th>July</th>\n",
       "      <td>8288</td>\n",
       "    </tr>\n",
       "    <tr>\n",
       "      <th>August</th>\n",
       "      <td>6630</td>\n",
       "    </tr>\n",
       "    <tr>\n",
       "      <th>September</th>\n",
       "      <td>4822</td>\n",
       "    </tr>\n",
       "    <tr>\n",
       "      <th>October</th>\n",
       "      <td>3215</td>\n",
       "    </tr>\n",
       "    <tr>\n",
       "      <th>November</th>\n",
       "      <td>1978</td>\n",
       "    </tr>\n",
       "    <tr>\n",
       "      <th>December</th>\n",
       "      <td>2283</td>\n",
       "    </tr>\n",
       "  </tbody>\n",
       "</table>\n",
       "</div>"
      ],
      "text/plain": [
       "           payments\n",
       "January        2831\n",
       "February       3824\n",
       "March          6119\n",
       "April          8158\n",
       "May            9324\n",
       "June           9324\n",
       "July           8288\n",
       "August         6630\n",
       "September      4822\n",
       "October        3215\n",
       "November       1978\n",
       "December       2283"
      ]
     },
     "execution_count": 12,
     "metadata": {},
     "output_type": "execute_result"
    }
   ],
   "source": [
    "# Addind the rests\n",
    "payments_df.payments[0] = payments_df.payments[0] + pre_jan\n",
    "payments_df.payments[11] = payments_df.payments[11] + post_dec\n",
    "payments_final = payments_df.round(0).astype(int)\n",
    "payments_final"
   ]
  },
  {
   "cell_type": "code",
   "execution_count": 13,
   "metadata": {},
   "outputs": [
    {
     "name": "stdout",
     "output_type": "stream",
     "text": [
      "Total savings 66795 vs calculated total savings 66796\n"
     ]
    }
   ],
   "source": [
    "print('Total savings {} vs calculated total savings {}'.format(total_money, int(payments_final.sum()[0])))"
   ]
  },
  {
   "cell_type": "markdown",
   "metadata": {},
   "source": [
    "## Saved 1 Baht more than we should"
   ]
  },
  {
   "cell_type": "code",
   "execution_count": 14,
   "metadata": {},
   "outputs": [
    {
     "name": "stdout",
     "output_type": "stream",
     "text": [
      "May: average needed is 310.80\n",
      "June: average needed is 310.80\n",
      "July: average needed is 276.27\n",
      "April: average needed is 271.93\n",
      "August: average needed is 221.00\n",
      "March: average needed is 203.97\n",
      "September: average needed is 160.73\n",
      "February: average needed is 127.47\n",
      "October: average needed is 107.17\n",
      "January: average needed is 94.37\n",
      "December: average needed is 76.10\n",
      "November: average needed is 65.93\n",
      "{'January': [219, 176, 153, 138, 130, 122, 116, 112, 108, 104, 100, 96, 93, 90, 88, 86, 84, 81, 79, 77, 75, 73, 71, 69, 67, 65, 63, 60, 36], 'February': [278, 234, 211, 196, 188, 180, 172, 163, 159, 155, 150, 146, 142, 139, 137, 135, 133, 131, 129, 127, 125, 123, 121, 119, 30, 1], 'March': [334, 291, 270, 254, 246, 238, 230, 222, 217, 213, 209, 205, 201, 197, 195, 193, 191, 189, 187, 185, 183, 181, 179, 177, 175, 173, 169, 167, 165, 83], 'April': [358, 342, 326, 311, 303, 295, 287, 280, 276, 272, 268, 264, 260, 256, 253, 251, 249, 247, 245, 243, 241, 239, 237, 235, 233, 231, 229, 227, 225, 223, 221, 31], 'May': [365, 363, 361, 359, 357, 355, 353, 351, 349, 347, 345, 343, 341, 339, 337, 335, 333, 331, 329, 327, 325, 323, 321, 319, 317, 315, 313, 171], 'June': [364, 360, 356, 352, 348, 344, 340, 336, 332, 328, 324, 320, 316, 312, 310, 308, 306, 304, 302, 300, 298, 296, 294, 292, 290, 288, 286, 284, 282, 152], 'July': [362, 354, 346, 338, 330, 322, 314, 309, 305, 301, 297, 293, 289, 285, 281, 279, 277, 275, 273, 271, 269, 267, 265, 263, 261, 259, 257, 255, 91], 'August': [350, 318, 299, 283, 274, 266, 258, 252, 248, 244, 240, 236, 232, 228, 224, 220, 218, 216, 214, 212, 210, 208, 206, 204, 202, 200, 198, 170], 'September': [307, 262, 242, 226, 215, 207, 199, 194, 190, 186, 182, 178, 174, 168, 164, 162, 160, 158, 156, 154, 151, 149, 147, 145, 143, 141, 62], 'October': [250, 203, 184, 166, 157, 148, 140, 136, 132, 128, 124, 120, 117, 115, 113, 111, 109, 107, 105, 103, 101, 99, 97, 95, 55], 'November': [161, 118, 102, 89, 80, 72, 64, 57, 52, 48, 44, 40, 35, 29, 25, 21, 17, 13, 9, 5], 'December': [192, 144, 126, 114, 106, 98, 92, 87, 82, 78, 74, 70, 66, 61, 58, 56, 53, 51, 49, 47, 45, 43, 41, 39, 37, 34, 32, 28, 26, 24, 22, 20, 18, 16, 14, 12, 10, 8, 6, 4, 2]}\n",
      "[134, 110, 94, 85, 76, 68, 59, 54, 50, 46, 42, 38, 33, 27, 23, 19, 15, 11, 7, 3]\n",
      "0\n",
      "0\n",
      "0\n",
      "0\n",
      "0\n",
      "0\n",
      "0\n",
      "0\n",
      "0\n",
      "0\n",
      "-897\n",
      "-98\n"
     ]
    }
   ],
   "source": [
    "# Find days to add to the specific months\n",
    "rev_mon_list = list(reversed(money_list))\n",
    "data = payments_final.payments.to_dict()\n",
    "for key in sorted(data, key=data.get, reverse=True):\n",
    "    print('{}: average needed is {:,.2f}'.format(key, data[key]/30))\n",
    "    data[key] = []\n",
    "    for number, item in enumerate(rev_mon_list):\n",
    "        if sum(data[key]) + item <= payments_final.payments[key]:\n",
    "            data[key].append(item)\n",
    "            rev_mon_list.pop(number)\n",
    "            # unfinished, need to find number of days in resp. month, then finding specific values to fill.\n",
    "print(data)\n",
    "print(rev_mon_list)\n",
    "for key, value in data.items():\n",
    "    print(sum(value) - payments_final.payments[key])"
   ]
  },
  {
   "cell_type": "code",
   "execution_count": 15,
   "metadata": {},
   "outputs": [],
   "source": [
    "# Some of the averages may be a bit too high.\n",
    "# Better to flatten the curve. "
   ]
  },
  {
   "cell_type": "code",
   "execution_count": null,
   "metadata": {},
   "outputs": [],
   "source": []
  }
 ],
 "metadata": {
  "kernelspec": {
   "display_name": "Python 3",
   "language": "python",
   "name": "python3"
  },
  "language_info": {
   "codemirror_mode": {
    "name": "ipython",
    "version": 3
   },
   "file_extension": ".py",
   "mimetype": "text/x-python",
   "name": "python",
   "nbconvert_exporter": "python",
   "pygments_lexer": "ipython3",
   "version": "3.6.3"
  }
 },
 "nbformat": 4,
 "nbformat_minor": 2
}
